{
 "cells": [
  {
   "cell_type": "markdown",
   "metadata": {},
   "source": [
    "Feature Engineering --> The process of using domain knowledge to extract features from the raw data \n",
    "\n",
    "Process \n",
    "0. Missing Values\n",
    "1. Handling Categorical Values\n",
    "2. Outlier Detection \n",
    "3. Feature Construction \n",
    "4. Feature Scaling\n",
    "5. Feature Selection\n",
    "6. Feature Extraction"
   ]
  }
 ],
 "metadata": {
  "language_info": {
   "name": "python"
  },
  "orig_nbformat": 4
 },
 "nbformat": 4,
 "nbformat_minor": 2
}
