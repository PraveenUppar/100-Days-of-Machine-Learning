{
 "cells": [
  {
   "cell_type": "markdown",
   "metadata": {},
   "source": [
    "Square Transform --> Applied to left skewed data"
   ]
  }
 ],
 "metadata": {
  "language_info": {
   "name": "python"
  },
  "orig_nbformat": 4
 },
 "nbformat": 4,
 "nbformat_minor": 2
}
